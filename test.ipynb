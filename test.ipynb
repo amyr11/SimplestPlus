{
 "cells": [
  {
   "cell_type": "code",
   "execution_count": 5,
   "metadata": {},
   "outputs": [],
   "source": [
    "from simplestplus.analyzers import SimplestplusLexer\n",
    "from simplestplus.utils import DefTranslator, Lexer, StateMachine"
   ]
  },
  {
   "cell_type": "markdown",
   "metadata": {},
   "source": [
    "# Test Lexer"
   ]
  },
  {
   "cell_type": "code",
   "execution_count": 6,
   "metadata": {},
   "outputs": [
    {
     "name": "stdout",
     "output_type": "stream",
     "text": [
      "machine, state: test 0\n",
      "machine, state: test 1\n",
      "machine, state: test_1 2\n",
      "machine, state: test_1 3\n",
      "Tokens:  ['and'] \n",
      "\n"
     ]
    }
   ],
   "source": [
    "test_1 = StateMachine(\n",
    "    'test_1',\n",
    "    transitions={\n",
    "        (2, 'd'): 3,\n",
    "        (3, 'delim_1'): 4,\n",
    "    },\n",
    "    initial=2,\n",
    "    final={4}\n",
    ")\n",
    "\n",
    "test = StateMachine(\n",
    "    'test',\n",
    "    transitions={\n",
    "        (0, 'a'): 1,\n",
    "        (1, 'n'): (test_1, 2)\n",
    "    },\n",
    "    initial=0,\n",
    "    final={}\n",
    ")\n",
    "\n",
    "lexer = Lexer([test, test_1])\n",
    "\n",
    "with open('samples/sample.simp', 'r') as f:\n",
    "    sample_code = f.read()\n",
    "\n",
    "tokens, error = lexer.analyze(sample_code)\n",
    "print('Tokens: ', tokens, '\\n')\n",
    "if error: \n",
    "    print(error)"
   ]
  },
  {
   "cell_type": "markdown",
   "metadata": {},
   "source": [
    "# Simplest+ Lexer"
   ]
  },
  {
   "cell_type": "code",
   "execution_count": 7,
   "metadata": {},
   "outputs": [
    {
     "name": "stdout",
     "output_type": "stream",
     "text": [
      "machine, state: num_deci_literal 0\n",
      "machine, state: reserved_symbols 0\n",
      "machine, state: reserved_words 0\n",
      "machine, state: reserved_words 1\n",
      "machine, state: reserved_words 2\n",
      "machine, state: reserved_words 3\n",
      "Tokens:  ['and'] \n",
      "\n"
     ]
    }
   ],
   "source": [
    "lexer = SimplestplusLexer()\n",
    "\n",
    "with open('samples/sample.simp', 'r') as f:\n",
    "    sample_code = f.read()\n",
    "\n",
    "tokens, error = lexer.analyze(sample_code)\n",
    "print('Tokens: ', tokens, '\\n')\n",
    "if error:\n",
    "    print(error)"
   ]
  },
  {
   "cell_type": "markdown",
   "metadata": {},
   "source": [
    "# Translator"
   ]
  },
  {
   "cell_type": "code",
   "execution_count": 8,
   "metadata": {},
   "outputs": [
    {
     "name": "stdout",
     "output_type": "stream",
     "text": [
      "{'special_chars', '\\\\'}\n"
     ]
    }
   ],
   "source": [
    "translator = DefTranslator()\n",
    "print(translator.translate('\\\\'))"
   ]
  },
  {
   "cell_type": "code",
   "execution_count": null,
   "metadata": {},
   "outputs": [],
   "source": []
  }
 ],
 "metadata": {
  "kernelspec": {
   "display_name": "Python 3",
   "language": "python",
   "name": "python3"
  },
  "language_info": {
   "codemirror_mode": {
    "name": "ipython",
    "version": 3
   },
   "file_extension": ".py",
   "mimetype": "text/x-python",
   "name": "python",
   "nbconvert_exporter": "python",
   "pygments_lexer": "ipython3",
   "version": "3.9.9"
  }
 },
 "nbformat": 4,
 "nbformat_minor": 2
}
