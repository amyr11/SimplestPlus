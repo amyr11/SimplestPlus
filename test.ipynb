{
 "cells": [
  {
   "cell_type": "code",
   "execution_count": 5,
   "metadata": {},
   "outputs": [],
   "source": [
    "from simplestplus.analyzers import SimplestplusLexer\n",
    "from simplestplus.utils import DefTranslator, Lexer, StateMachine"
   ]
  },
  {
   "cell_type": "markdown",
   "metadata": {},
   "source": [
    "# Test Lexer"
   ]
  },
  {
   "cell_type": "code",
   "execution_count": 6,
   "metadata": {},
   "outputs": [
    {
     "name": "stdout",
     "output_type": "stream",
     "text": [
      "Tokens:  [] \n",
      "\n",
      "->   1  \"I\\\"m\"\n",
      "        ~\n",
      "-----------------------------------------------\n",
      "LexicalError: Invalid lexeme near line 1, col 1\n",
      "\n"
     ]
    }
   ],
   "source": [
    "num_deci_literal = StateMachine(\n",
    "    'num_deci_literal',\n",
    "    transitions={\n",
    "        (0, 'digits'): 1,\n",
    "        (1, 'delim_1'): 2,\n",
    "        (1, 'all_digits'): 3,\n",
    "        (1, '.'): 6,\n",
    "        (3, 'delim_1'): 4,\n",
    "        (3, '.'): 6,\n",
    "        (6, 'all_digits'): 7,\n",
    "        (7, 'delim_1'): 8,\n",
    "        (0, '0'): 11,\n",
    "        (11, 'delim_1'): 12,\n",
    "    },\n",
    "    initial=0,\n",
    "    final={2, 4, 8, 12}\n",
    ")\n",
    "\n",
    "reserved_symbols = StateMachine(\n",
    "    'reserved_symbols',\n",
    "    transitions={\n",
    "        (0, 'delim_1'): 9,\n",
    "        (9, 'delim_2'): 10,\n",
    "    },\n",
    "    initial=0,\n",
    "    final={10}\n",
    ")\n",
    "\n",
    "lexer = Lexer([num_deci_literal, reserved_symbols])\n",
    "\n",
    "with open('samples/sample.simp', 'r') as f:\n",
    "    sample_code = f.read()\n",
    "\n",
    "tokens, error = lexer.analyze(sample_code)\n",
    "print('Tokens: ', tokens, '\\n')\n",
    "if error: \n",
    "    print(error)"
   ]
  },
  {
   "cell_type": "markdown",
   "metadata": {},
   "source": [
    "# Simplest+ Lexer"
   ]
  },
  {
   "cell_type": "code",
   "execution_count": 7,
   "metadata": {},
   "outputs": [
    {
     "name": "stdout",
     "output_type": "stream",
     "text": [
      "Tokens:  ['\"I\\\\\"m\"', '\\n'] \n",
      "\n",
      "     1  \"I\\\"m\"\n",
      "->   2  \"I\"m\"\n",
      "        ~~~~\n",
      "-----------------------------------------------\n",
      "LexicalError: Invalid lexeme near line 2, col 1\n",
      "\n"
     ]
    }
   ],
   "source": [
    "lexer = SimplestplusLexer()\n",
    "\n",
    "with open('samples/sample.simp', 'r') as f:\n",
    "    sample_code = f.read()\n",
    "\n",
    "tokens, error = lexer.analyze(sample_code)\n",
    "print('Tokens: ', tokens, '\\n')\n",
    "if error:\n",
    "    print(error)"
   ]
  },
  {
   "cell_type": "markdown",
   "metadata": {},
   "source": [
    "# Translator"
   ]
  },
  {
   "cell_type": "code",
   "execution_count": 8,
   "metadata": {},
   "outputs": [
    {
     "name": "stdout",
     "output_type": "stream",
     "text": [
      "{'\\\\', 'special_chars'}\n"
     ]
    }
   ],
   "source": [
    "translator = DefTranslator()\n",
    "print(translator.translate('\\\\'))"
   ]
  }
 ],
 "metadata": {
  "kernelspec": {
   "display_name": "Python 3",
   "language": "python",
   "name": "python3"
  },
  "language_info": {
   "codemirror_mode": {
    "name": "ipython",
    "version": 3
   },
   "file_extension": ".py",
   "mimetype": "text/x-python",
   "name": "python",
   "nbconvert_exporter": "python",
   "pygments_lexer": "ipython3",
   "version": "3.9.9"
  }
 },
 "nbformat": 4,
 "nbformat_minor": 2
}
